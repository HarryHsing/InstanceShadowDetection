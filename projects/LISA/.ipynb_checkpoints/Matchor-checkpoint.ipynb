{
 "cells": [
  {
   "cell_type": "code",
   "execution_count": 23,
   "metadata": {},
   "outputs": [],
   "source": [
    "import json\n",
    "import tqdm\n",
    "import cv2\n",
    "import os\n",
    "import numpy as np\n",
    "from collections import defaultdict\n",
    "from fvcore.common.file_io import PathManager\n",
    "from detectron2.data import DatasetCatalog, MetadataCatalog\n",
    "from detectron2.structures import Boxes, BoxMode, Instances\n",
    "from detectron2.data.datasets import register_coco_instances\n",
    "register_coco_instances(\"coco_cast_shadow_val_beta_full\",{},\"./instances_cast_shadow_val_full.json\",\"../../datasets/coco/ICSD\")\n"
   ]
  },
  {
   "cell_type": "code",
   "execution_count": 174,
   "metadata": {},
   "outputs": [],
   "source": [
    "#instance\n",
    "ins_file = './output/inference/coco_instances_results.json'\n",
    "with PathManager.open(ins_file, \"r\") as f:\n",
    "    ins_predictions_js = json.load(f)\n",
    "#relation\n",
    "rel_file = './output/inference/coco_relation_results.json'\n",
    "with PathManager.open(rel_file,'r') as f:\n",
    "    rel_predictions_js = json.load(f)"
   ]
  },
  {
   "cell_type": "code",
   "execution_count": 138,
   "metadata": {},
   "outputs": [],
   "source": [
    "ins_pred_by_image = defaultdict(list)\n",
    "rel_pred_by_image = defaultdict(list)\n",
    "for p in ins_predictions_js:\n",
    "    ins_pred_by_image[p[\"image_id\"]].append(p)\n",
    "for p in rel_predictions_js:\n",
    "    rel_pred_by_image[p[\"image_id\"]].append(p)"
   ]
  },
  {
   "cell_type": "code",
   "execution_count": 175,
   "metadata": {},
   "outputs": [],
   "source": [
    "dicts = list(DatasetCatalog.get('coco_cast_shadow_val_beta_full'))\n",
    "metadata = MetadataCatalog.get('coco_cast_shadow_val_beta_full')\n",
    "if hasattr(metadata, \"thing_dataset_id_to_contiguous_id\") and hasattr(metadata,\"relation_dataset_id_to_contiguous_id\"):\n",
    "    def dataset_id_map(ds_id):\n",
    "        return metadata.thing_dataset_id_to_contiguous_id[ds_id]\n",
    "    def dataset_rel_id_map(ds_id):\n",
    "        return metadata.relation_dataset_id_to_contiguous_id[ds_id]"
   ]
  },
  {
   "cell_type": "code",
   "execution_count": 227,
   "metadata": {},
   "outputs": [],
   "source": [
    "def create_instances(ins_predictions, rel_predictions,image_size):\n",
    "    ret = Instances(image_size)\n",
    "\n",
    "    ins_score = np.asarray([x[\"score\"] for x in ins_predictions])\n",
    "    chosen = (ins_score > 0.7).nonzero()[0]\n",
    "    ins_score = ins_score[chosen]\n",
    "    bbox = np.asarray([ins_predictions[i][\"bbox\"] for i in chosen])\n",
    "    bbox = BoxMode.convert(bbox, BoxMode.XYWH_ABS, BoxMode.XYXY_ABS)\n",
    "\n",
    "    labels = np.asarray([dataset_id_map(ins_predictions[i][\"category_id\"]) for i in chosen])\n",
    "\n",
    "    ret.scores = ins_score\n",
    "    ret.pred_boxes = Boxes(bbox)\n",
    "    ret.pred_classes = labels\n",
    "\n",
    "    try:\n",
    "        ret.pred_masks = [ins_predictions[i][\"segmentation\"] for i in chosen]\n",
    "    except KeyError:\n",
    "        pass\n",
    "    rel_ret = Instances(image_size)\n",
    "    rel_score = np.asarray([x[\"score\"] for x in rel_predictions])\n",
    "    chosen = (rel_score > 0.7).nonzero()[0]\n",
    "    rel_score = rel_score[chosen]\n",
    "    bbox = np.asarray([rel_predictions[i][\"bbox\"] for i in chosen])\n",
    "    bbox = BoxMode.convert(bbox, BoxMode.XYWH_ABS, BoxMode.XYXY_ABS)\n",
    "\n",
    "    labels = np.asarray([dataset_rel_id_map(rel_predictions[i][\"category_id\"]) for i in chosen])\n",
    "\n",
    "    rel_ret.scores = rel_score\n",
    "    rel_ret.pred_boxes = Boxes(bbox)\n",
    "    rel_ret.pred_classes = labels\n",
    "\n",
    "\n",
    "\n",
    "    return ret,rel_ret"
   ]
  },
  {
   "cell_type": "code",
   "execution_count": 228,
   "metadata": {
    "scrolled": true
   },
   "outputs": [
    {
     "name": "stderr",
     "output_type": "stream",
     "text": [
      "100%|██████████| 100/100 [00:00<00:00, 163.54it/s]\n"
     ]
    }
   ],
   "source": [
    "ins_predictions = []\n",
    "rel_predictions = []\n",
    "for dic in tqdm.tqdm(dicts):\n",
    "    img = cv2.imread(dic[\"file_name\"], cv2.IMREAD_COLOR)[:, :, ::-1]\n",
    "    basename = os.path.basename(dic[\"file_name\"])\n",
    "#     try: \n",
    "    ins_prediction,rel_prediction = create_instances(ins_pred_by_image[dic[\"image_id\"]], rel_pred_by_image[dic[\"image_id\"]],img.shape[:2])\n",
    "    ins_predictions.append(ins_prediction)\n",
    "    rel_predictions.append(rel_prediction)"
   ]
  },
  {
   "cell_type": "code",
   "execution_count": 249,
   "metadata": {},
   "outputs": [
    {
     "data": {
      "text/plain": [
       "'../../datasets/coco/ICSD/WEB/web-shadow0517.jpg'"
      ]
     },
     "execution_count": 249,
     "metadata": {},
     "output_type": "execute_result"
    }
   ],
   "source": [
    "dicts[14]['file_name']"
   ]
  },
  {
   "cell_type": "code",
   "execution_count": 248,
   "metadata": {
    "scrolled": true
   },
   "outputs": [
    {
     "data": {
      "text/plain": [
       "array([[448.03214, 127.44457, 594.9402 , 426.     ],\n",
       "       [ 90.95401, 305.95056, 530.8113 , 426.     ],\n",
       "       [ 79.8196 , 163.1363 , 201.61131, 399.3145 ],\n",
       "       [502.8895 , 377.06955, 634.55225, 417.39642]], dtype=float32)"
      ]
     },
     "execution_count": 248,
     "metadata": {},
     "output_type": "execute_result"
    }
   ],
   "source": [
    "ins_predictions[14].pred_boxes.tensor.numpy()"
   ]
  },
  {
   "cell_type": "code",
   "execution_count": 218,
   "metadata": {},
   "outputs": [
    {
     "data": {
      "text/plain": [
       "array([0, 0, 1, 1, 1])"
      ]
     },
     "execution_count": 218,
     "metadata": {},
     "output_type": "execute_result"
    }
   ],
   "source": [
    "ins_predictions[3].pred_classes"
   ]
  },
  {
   "cell_type": "code",
   "execution_count": 210,
   "metadata": {},
   "outputs": [
    {
     "data": {
      "text/plain": [
       "array([[221.6179   , 268.9354   , 528.3305   , 454.9692   ],\n",
       "       [ 72.03612  , 263.92804  , 250.26341  , 354.49326  ],\n",
       "       [  2.6389222, 286.64175  ,  55.61558  , 348.36838  ]],\n",
       "      dtype=float32)"
      ]
     },
     "execution_count": 210,
     "metadata": {},
     "output_type": "execute_result"
    }
   ],
   "source": [
    "rel_predictions[3].pred_boxes.tensor.numpy()"
   ]
  },
  {
   "cell_type": "code",
   "execution_count": 182,
   "metadata": {},
   "outputs": [
    {
     "name": "stdout",
     "output_type": "stream",
     "text": [
      "100   100\n"
     ]
    }
   ],
   "source": [
    "print(len(ins_predictions),' ', len(rel_predictions))"
   ]
  },
  {
   "cell_type": "code",
   "execution_count": 230,
   "metadata": {},
   "outputs": [],
   "source": [
    "def box_combine(o,s,box1,box2):\n",
    "    \"\"\"\n",
    "    args:\n",
    "        box1 : (x1_0,  y1_0,  x1_1, y1_1)\n",
    "        box2: (x2_0, y2_0, x2_1, y2_1)\n",
    "    return:\n",
    "        dict[\"1_2\":(min(x1_0,x2_0),min(y1_0,y2_0),max(x1_1,x2-1),max(y2_1,y2_2))]\n",
    "    \"\"\"\n",
    "    name = '{}_{}'.format(o,s)\n",
    "    combine = (min(box1[0],box2[0]),min(box1[1],box2[1]),max(box1[2],box2[2]),max(box1[3],box2[3]))\n",
    "    combine = (combine[0],combine[1],combine[2]-combine[0],combine[3]-combine[1]) # XYXY to XYWH\n",
    "    return [name,combine]\n",
    "    "
   ]
  },
  {
   "cell_type": "code",
   "execution_count": 231,
   "metadata": {},
   "outputs": [],
   "source": [
    "def compute_iou(rec1, rec2):\n",
    "    \"\"\"\n",
    "    param:\n",
    "    rec1: (x0, y0, w, h)\n",
    "    rec2: (x0, y0, w, h)\n",
    "    x0, y0: the upper left point of rec.\n",
    "    w, h:  the length and width of rec.\n",
    "    \"\"\"\n",
    "    left_x = max(rec1[0], rec2[0])\n",
    "    left_y = max(rec1[1], rec2[1])\n",
    "    right_x = min(rec1[0] + rec1[2], rec2[0] + rec2[2])\n",
    "    right_y = min(rec1[1] + rec1[3], rec2[1] + rec2[3])\n",
    "    if left_x >= right_x or left_y >= right_y:\n",
    "        return 0\n",
    "    else:\n",
    "        S_mid = (right_y - left_y)*(right_x - left_x)\n",
    "        S_total = (rec1[2]*rec1[3]) + (rec2[2]*rec2[3]) - S_mid\n",
    "        return S_mid/S_total"
   ]
  },
  {
   "cell_type": "code",
   "execution_count": 252,
   "metadata": {},
   "outputs": [
    {
     "name": "stdout",
     "output_type": "stream",
     "text": [
      "1 {'1': ['0_1_0', 0.7412511]}\n",
      "2 {'2': ['0_2_0', 0.9638724]}\n",
      "3 {'2': ['0_2_0', 0.9713978]}\n",
      "4 {'4': ['0_4_1', 0.95149136], '2': ['1_2_0', 0.964814]}\n"
     ]
    },
    {
     "ename": "TypeError",
     "evalue": "'>' not supported between instances of 'numpy.ndarray' and 'str'",
     "output_type": "error",
     "traceback": [
      "\u001b[0;31m---------------------------------------------------------------------------\u001b[0m",
      "\u001b[0;31mTypeError\u001b[0m                                 Traceback (most recent call last)",
      "\u001b[0;32m<ipython-input-252-4e650638d26f>\u001b[0m in \u001b[0;36m<module>\u001b[0;34m\u001b[0m\n\u001b[1;32m     45\u001b[0m                         \u001b[0mO\u001b[0m\u001b[0;34m[\u001b[0m\u001b[0mo\u001b[0m\u001b[0;34m]\u001b[0m \u001b[0;34m=\u001b[0m \u001b[0mv\u001b[0m\u001b[0;34m[\u001b[0m\u001b[0;36m0\u001b[0m\u001b[0;34m]\u001b[0m\u001b[0;34m\u001b[0m\u001b[0;34m\u001b[0m\u001b[0m\n\u001b[1;32m     46\u001b[0m                 \u001b[0;32mif\u001b[0m \u001b[0ms\u001b[0m \u001b[0;32min\u001b[0m \u001b[0mS\u001b[0m\u001b[0;34m:\u001b[0m\u001b[0;34m\u001b[0m\u001b[0;34m\u001b[0m\u001b[0m\n\u001b[0;32m---> 47\u001b[0;31m                     \u001b[0;32mif\u001b[0m \u001b[0mv\u001b[0m\u001b[0;34m[\u001b[0m\u001b[0;36m0\u001b[0m\u001b[0;34m]\u001b[0m\u001b[0;34m[\u001b[0m\u001b[0;36m1\u001b[0m\u001b[0;34m]\u001b[0m \u001b[0;34m>\u001b[0m \u001b[0mS\u001b[0m\u001b[0;34m[\u001b[0m\u001b[0ms\u001b[0m\u001b[0;34m]\u001b[0m\u001b[0;34m[\u001b[0m\u001b[0;36m0\u001b[0m\u001b[0;34m]\u001b[0m\u001b[0;34m[\u001b[0m\u001b[0;36m1\u001b[0m\u001b[0;34m]\u001b[0m\u001b[0;34m:\u001b[0m\u001b[0;34m\u001b[0m\u001b[0;34m\u001b[0m\u001b[0m\n\u001b[0m\u001b[1;32m     48\u001b[0m                         \u001b[0mS\u001b[0m\u001b[0;34m[\u001b[0m\u001b[0ms\u001b[0m\u001b[0;34m]\u001b[0m \u001b[0;34m=\u001b[0m \u001b[0ms\u001b[0m\u001b[0;34m[\u001b[0m\u001b[0;36m0\u001b[0m\u001b[0;34m]\u001b[0m\u001b[0;34m\u001b[0m\u001b[0;34m\u001b[0m\u001b[0m\n\u001b[1;32m     49\u001b[0m             \u001b[0;32melse\u001b[0m\u001b[0;34m:\u001b[0m\u001b[0;34m\u001b[0m\u001b[0;34m\u001b[0m\u001b[0m\n",
      "\u001b[0;31mTypeError\u001b[0m: '>' not supported between instances of 'numpy.ndarray' and 'str'"
     ]
    }
   ],
   "source": [
    "def takeTwo(elm):\n",
    "    return elm[1]\n",
    "count = 0\n",
    "results = {}\n",
    "for instance,relation  in zip(ins_predictions,rel_predictions):\n",
    "    count +=1\n",
    "    objects = [ i for i,v in enumerate(instance.pred_classes) if v == 1]\n",
    "    shadows = [i for i,v in enumerate(instance.pred_classes) if v == 0]\n",
    "    boxes = []\n",
    "    for o in objects:\n",
    "        for s in shadows:\n",
    "            boxes.append(box_combine(o,s,instance.pred_boxes[o].tensor[0].numpy(),instance.pred_boxes[s].tensor[0].numpy()))\n",
    "            \n",
    "\n",
    "    rel_boxes = relation.pred_boxes.tensor.numpy()\n",
    "    pair = []\n",
    "\n",
    "    for i,rel_box in enumerate(rel_boxes):\n",
    "        scores = []\n",
    "        rel_box = [rel_box[0],rel_box[1],rel_box[2]-rel_box[0],rel_box[3]-rel_box[1]]\n",
    "#         if count == 4:\n",
    "#             print(rel_box)\n",
    "#             print(boxes)\n",
    "        for box in boxes:\n",
    "            k,v =  box\n",
    "            \n",
    "            scores.append([str(i)+'_'+k,compute_iou(rel_box,v)])\n",
    "        \n",
    "        if len(rel_boxes) == 1:\n",
    "            pair.append(sorted(scores,key=takeTwo,reverse=True)[:1])\n",
    "            _,o,s = sorted(scores,key=takeTwo,reverse=True)[0][0].split('_')\n",
    "            results[count] = [[int(o),int(s),i]] # o,s,r\n",
    "        else:\n",
    "            pair.append(sorted(scores,key=takeTwo,reverse=True)[:1])\n",
    "            if not sum([sc[1] > 0.7 for sc in pair[i]]):\n",
    "                pair[i] = [[0,0]]\n",
    "    O = {}\n",
    "    S = {}\n",
    "    for k,v in enumerate(pair):\n",
    "        if v != [[0,0]]:\n",
    "            r,o,s = v[0][0].split('_')\n",
    "            if o in O or s in S:\n",
    "                if o in O:\n",
    "                    if v[0][1] > O[o][0][1]:\n",
    "                        O[o] = v[0]\n",
    "                if s in S:\n",
    "                    print(v,S[s])\n",
    "                    if v[0][1] > S[s][0][1]:\n",
    "                        S[s] = s[0]\n",
    "            else:\n",
    "                O[o] = v[0]\n",
    "                S[s] = v[0]\n",
    "            \n",
    "            \n",
    "    print(count,O)\n",
    "    \n",
    "    \n",
    "    if count >= 15:\n",
    "        break\n",
    "    "
   ]
  },
  {
   "cell_type": "code",
   "execution_count": 242,
   "metadata": {},
   "outputs": [
    {
     "data": {
      "text/plain": [
       "0"
      ]
     },
     "execution_count": 242,
     "metadata": {},
     "output_type": "execute_result"
    }
   ],
   "source": [
    "sum([i>0.7 for i in [0.010131546,0.12052617]])"
   ]
  },
  {
   "cell_type": "code",
   "execution_count": 205,
   "metadata": {},
   "outputs": [
    {
     "data": {
      "text/plain": [
       "0.9756721824009572"
      ]
     },
     "execution_count": 205,
     "metadata": {},
     "output_type": "execute_result"
    }
   ],
   "source": [
    "a = (181.51666, 365.25256, 508.44647, 762.3054)\n",
    "b = (176.4062, 365.25256, 513.55695, 751.1262)\n",
    "compute_iou(a,b)"
   ]
  },
  {
   "cell_type": "code",
   "execution_count": 233,
   "metadata": {},
   "outputs": [
    {
     "data": {
      "text/plain": [
       "True"
      ]
     },
     "execution_count": 233,
     "metadata": {},
     "output_type": "execute_result"
    }
   ],
   "source": [
    "[[0,0],[0,0]] == [[0,0],[0,0]]"
   ]
  },
  {
   "cell_type": "code",
   "execution_count": 234,
   "metadata": {},
   "outputs": [],
   "source": [
    "a = [[0,0],[0,0]]"
   ]
  },
  {
   "cell_type": "code",
   "execution_count": 235,
   "metadata": {},
   "outputs": [
    {
     "ename": "TypeError",
     "evalue": "list indices must be integers or slices, not tuple",
     "output_type": "error",
     "traceback": [
      "\u001b[0;31m---------------------------------------------------------------------------\u001b[0m",
      "\u001b[0;31mTypeError\u001b[0m                                 Traceback (most recent call last)",
      "\u001b[0;32m<ipython-input-235-300f80cfa4ce>\u001b[0m in \u001b[0;36m<module>\u001b[0;34m\u001b[0m\n\u001b[0;32m----> 1\u001b[0;31m \u001b[0ma\u001b[0m\u001b[0;34m[\u001b[0m\u001b[0;34m:\u001b[0m\u001b[0;34m,\u001b[0m\u001b[0;36m0\u001b[0m\u001b[0;34m]\u001b[0m\u001b[0;34m\u001b[0m\u001b[0;34m\u001b[0m\u001b[0m\n\u001b[0m",
      "\u001b[0;31mTypeError\u001b[0m: list indices must be integers or slices, not tuple"
     ]
    }
   ],
   "source": [
    "a[:,0]"
   ]
  },
  {
   "cell_type": "code",
   "execution_count": null,
   "metadata": {},
   "outputs": [],
   "source": []
  }
 ],
 "metadata": {
  "kernelspec": {
   "display_name": "Python 3",
   "language": "python",
   "name": "python3"
  },
  "language_info": {
   "codemirror_mode": {
    "name": "ipython",
    "version": 3
   },
   "file_extension": ".py",
   "mimetype": "text/x-python",
   "name": "python",
   "nbconvert_exporter": "python",
   "pygments_lexer": "ipython3",
   "version": "3.6.7"
  }
 },
 "nbformat": 4,
 "nbformat_minor": 2
}
