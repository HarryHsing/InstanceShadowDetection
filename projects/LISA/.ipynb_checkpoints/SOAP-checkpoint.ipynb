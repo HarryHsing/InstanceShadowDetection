{
 "cells": [
  {
   "cell_type": "code",
   "execution_count": 1,
   "metadata": {},
   "outputs": [
    {
     "name": "stdout",
     "output_type": "stream",
     "text": [
      "loading annotations into memory...\n",
      "Done (t=0.23s)\n",
      "creating index...\n",
      "index created!\n"
     ]
    }
   ],
   "source": [
    "import numpy as np\n",
    "import pysobatools.sobaeval as Eval\n",
    "import pysobatools.isdeval as isdEval\n",
    "from pysobatools.soba import SOBA\n",
    "import json\n",
    "soba = SOBA('../../../SOBA/annotations/SOBA_val.json')"
   ]
  },
  {
   "cell_type": "code",
   "execution_count": 2,
   "metadata": {},
   "outputs": [
    {
     "data": {
      "text/plain": [
       "{'image_name': 'web-shadow0576',\n",
       " 'file_name': 'WEB/web-shadow0576.jpg',\n",
       " 'full_mask_path': 'WEB/web-shadow0576-1.png',\n",
       " 'object_mask_path': 'WEB/web-shadow0576-2.png',\n",
       " 'shadow_mask_path': 'WEB/web-shadow0576-3.png',\n",
       " 'non_object_shadow': False,\n",
       " 'id': 107,\n",
       " 'image_id': 107,\n",
       " 'height': 384,\n",
       " 'width': 592}"
      ]
     },
     "execution_count": 2,
     "metadata": {},
     "output_type": "execute_result"
    }
   ],
   "source": [
    "soba.imgs[107]"
   ]
  },
  {
   "cell_type": "code",
   "execution_count": 2,
   "metadata": {
    "scrolled": false
   },
   "outputs": [
    {
     "name": "stdout",
     "output_type": "stream",
     "text": [
      "Loading and preparing results...\n",
      "DONE (t=0.00s)\n",
      "creating index...\n",
      "index created!\n",
      "Loading and preparing results...\n",
      "DONE (t=0.00s)\n",
      "creating index...\n",
      "index created!\n",
      "segmentaion:\n",
      "Running per image evaluation...\n",
      "Evaluate annotation type *segm*\n",
      "DONE (t=4.55s).\n",
      "Accumulating evaluation results...\n",
      "[[  1.   2.   3. ... 138. 139. 139.]\n",
      " [  1.   2.   3. ... 136. 137. 137.]\n",
      " [  1.   2.   3. ... 127. 128. 128.]\n",
      " ...\n",
      " [  1.   1.   1. ...  22.  22.  22.]\n",
      " [  0.   0.   0. ...   5.   5.   5.]\n",
      " [  0.   0.   0. ...   0.   0.   0.]]  0   0\n",
      "[[  1.   2.   3. ... 340. 340. 340.]\n",
      " [  1.   2.   3. ... 321. 321. 321.]\n",
      " [  1.   2.   3. ... 283. 283. 283.]\n",
      " ...\n",
      " [  1.   1.   1. ...  30.  30.  30.]\n",
      " [  0.   0.   0. ...   7.   7.   7.]\n",
      " [  0.   0.   0. ...   0.   0.   0.]]  0   0\n",
      "[[  1.   2.   3. ... 340. 340. 340.]\n",
      " [  1.   2.   3. ... 321. 321. 321.]\n",
      " [  1.   2.   3. ... 283. 283. 283.]\n",
      " ...\n",
      " [  1.   1.   1. ...  30.  30.  30.]\n",
      " [  0.   0.   0. ...   7.   7.   7.]\n",
      " [  0.   0.   0. ...   0.   0.   0.]]  0   0\n",
      "DONE (t=0.04s).\n",
      " Average Precision  (AP) @[ IoU=0.50:0.95 | area=   all | maxDets=100 ] = 0.216\n",
      " Average Precision  (AP) @[ IoU=0.50      | area=   all | maxDets=100 ] = 0.509\n",
      " Average Precision  (AP) @[ IoU=0.75      | area=   all | maxDets=100 ] = 0.144\n",
      " Average Recall     (AR) @[ IoU=0.50:0.95 | area=   all | maxDets=  1 ] = 0.124\n",
      " Average Recall     (AR) @[ IoU=0.50:0.95 | area=   all | maxDets= 20 ] = 0.260\n",
      " Average Recall     (AR) @[ IoU=0.50:0.95 | area=   all | maxDets=100 ] = 0.260\n",
      "bbox:\n",
      "Running per image evaluation...\n",
      "Evaluate annotation type *bbox*\n",
      "DONE (t=3.38s).\n",
      "Accumulating evaluation results...\n",
      "[[  1.   1.   2. ... 138. 138. 138.]\n",
      " [  1.   1.   2. ... 131. 131. 131.]\n",
      " [  1.   1.   2. ... 122. 122. 122.]\n",
      " ...\n",
      " [  0.   0.   1. ...  20.  20.  20.]\n",
      " [  0.   0.   0. ...   4.   4.   4.]\n",
      " [  0.   0.   0. ...   0.   0.   0.]]  0   0\n",
      "[[  1.   1.   2. ... 349. 349. 349.]\n",
      " [  1.   1.   2. ... 325. 325. 325.]\n",
      " [  1.   1.   2. ... 298. 298. 298.]\n",
      " ...\n",
      " [  0.   0.   1. ...  43.  43.  43.]\n",
      " [  0.   0.   0. ...   9.   9.   9.]\n",
      " [  0.   0.   0. ...   0.   0.   0.]]  0   0\n",
      "[[  1.   1.   2. ... 349. 349. 349.]\n",
      " [  1.   1.   2. ... 325. 325. 325.]\n",
      " [  1.   1.   2. ... 298. 298. 298.]\n",
      " ...\n",
      " [  0.   0.   1. ...  43.  43.  43.]\n",
      " [  0.   0.   0. ...   9.   9.   9.]\n",
      " [  0.   0.   0. ...   0.   0.   0.]]  0   0\n",
      "DONE (t=0.05s).\n",
      " Average Precision  (AP) @[ IoU=0.50:0.95 | area=   all | maxDets=100 ] = 0.218\n",
      " Average Precision  (AP) @[ IoU=0.50      | area=   all | maxDets=100 ] = 0.505\n",
      " Average Precision  (AP) @[ IoU=0.75      | area=   all | maxDets=100 ] = 0.164\n",
      " Average Recall     (AR) @[ IoU=0.50:0.95 | area=   all | maxDets=  1 ] = 0.119\n",
      " Average Recall     (AR) @[ IoU=0.50:0.95 | area=   all | maxDets= 20 ] = 0.278\n",
      " Average Recall     (AR) @[ IoU=0.50:0.95 | area=   all | maxDets=100 ] = 0.278\n",
      "--------------\n",
      "Running per image evaluation...\n",
      "Evaluate annotation type *segm*\n",
      "DONE (t=0.62s).\n",
      "Accumulating evaluation results...\n",
      "DONE (t=0.07s).\n",
      " Average Precision  (AP) @[ IoU=0.50:0.95 | area=   all | maxDets=100 ] = 0.411\n",
      " Average Precision  (AP) @[ IoU=0.50      | area=   all | maxDets=100 ] = 0.650\n",
      " Average Precision  (AP) @[ IoU=0.75      | area=   all | maxDets=100 ] = 0.473\n",
      " Average Precision  (AP) @[ IoU=0.50:0.95 | area= small | maxDets=100 ] = 0.104\n",
      " Average Precision  (AP) @[ IoU=0.50:0.95 | area=medium | maxDets=100 ] = 0.320\n",
      " Average Precision  (AP) @[ IoU=0.50:0.95 | area= large | maxDets=100 ] = 0.511\n",
      " Average Recall     (AR) @[ IoU=0.50:0.95 | area=   all | maxDets=  1 ] = 0.179\n",
      " Average Recall     (AR) @[ IoU=0.50:0.95 | area=   all | maxDets= 10 ] = 0.463\n",
      " Average Recall     (AR) @[ IoU=0.50:0.95 | area=   all | maxDets=100 ] = 0.463\n",
      " Average Recall     (AR) @[ IoU=0.50:0.95 | area= small | maxDets=100 ] = 0.110\n",
      " Average Recall     (AR) @[ IoU=0.50:0.95 | area=medium | maxDets=100 ] = 0.348\n",
      " Average Recall     (AR) @[ IoU=0.50:0.95 | area= large | maxDets=100 ] = 0.579\n",
      "Running per image evaluation...\n",
      "Evaluate annotation type *bbox*\n",
      "DONE (t=0.41s).\n",
      "Accumulating evaluation results...\n",
      "DONE (t=0.05s).\n",
      " Average Precision  (AP) @[ IoU=0.50:0.95 | area=   all | maxDets=100 ] = 0.494\n",
      " Average Precision  (AP) @[ IoU=0.50      | area=   all | maxDets=100 ] = 0.686\n",
      " Average Precision  (AP) @[ IoU=0.75      | area=   all | maxDets=100 ] = 0.554\n",
      " Average Precision  (AP) @[ IoU=0.50:0.95 | area= small | maxDets=100 ] = 0.148\n",
      " Average Precision  (AP) @[ IoU=0.50:0.95 | area=medium | maxDets=100 ] = 0.397\n",
      " Average Precision  (AP) @[ IoU=0.50:0.95 | area= large | maxDets=100 ] = 0.607\n",
      " Average Recall     (AR) @[ IoU=0.50:0.95 | area=   all | maxDets=  1 ] = 0.203\n",
      " Average Recall     (AR) @[ IoU=0.50:0.95 | area=   all | maxDets= 10 ] = 0.544\n",
      " Average Recall     (AR) @[ IoU=0.50:0.95 | area=   all | maxDets=100 ] = 0.544\n",
      " Average Recall     (AR) @[ IoU=0.50:0.95 | area= small | maxDets=100 ] = 0.160\n",
      " Average Recall     (AR) @[ IoU=0.50:0.95 | area=medium | maxDets=100 ] = 0.433\n",
      " Average Recall     (AR) @[ IoU=0.50:0.95 | area= large | maxDets=100 ] = 0.669\n"
     ]
    }
   ],
   "source": [
    "results =  json.load(open('./output_light/inference/soba_instances_results.json'))\n",
    "association = json.load(open('./output_light/inference/soba_association_results.json'))\n",
    "\n",
    "instance_soba = soba.loadRes(results)\n",
    "association_soba = soba.loadRes_rela(association)\n",
    "\n",
    "isdeval= isdEval.ISDeval(soba,instance_soba,association_soba)\n",
    "print('segmentaion:')\n",
    "# a,b,c,d = isdeval.evaluate_rela()\n",
    "isdeval.evaluate_rela()\n",
    "# isdeval.params.catIds = [1]\n",
    "isdeval.accumulate()\n",
    "isdeval.summarize()\n",
    "print('bbox:')\n",
    "isdeval= isdEval.ISDeval(soba,instance_soba,association_soba)\n",
    "isdeval.params.iouType = 'bbox'\n",
    "isdeval.evaluate_rela()\n",
    "# isdeval.params.catIds = [1]\n",
    "isdeval.accumulate()\n",
    "isdeval.summarize()\n",
    "\n",
    "print(\"--------------\")\n",
    "sobaeval= Eval.sobaeval(soba,association_soba)\n",
    "sobaeval.evaluate_rela()\n",
    "sobaeval.accumulate()\n",
    "sobaeval.summarize()\n",
    "\n",
    "sobaeval= Eval.sobaeval(soba,association_soba)\n",
    "sobaeval.params.iouType=\"bbox\"\n",
    "sobaeval.evaluate_rela()\n",
    "sobaeval.accumulate()\n",
    "sobaeval.summarize()"
   ]
  }
 ],
 "metadata": {
  "kernelspec": {
   "display_name": "Python 3",
   "language": "python",
   "name": "python3"
  },
  "language_info": {
   "codemirror_mode": {
    "name": "ipython",
    "version": 3
   },
   "file_extension": ".py",
   "mimetype": "text/x-python",
   "name": "python",
   "nbconvert_exporter": "python",
   "pygments_lexer": "ipython3",
   "version": "3.6.7"
  }
 },
 "nbformat": 4,
 "nbformat_minor": 2
}
